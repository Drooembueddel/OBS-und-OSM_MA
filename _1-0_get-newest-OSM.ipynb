{
 "cells": [
  {
   "cell_type": "code",
   "execution_count": 4,
   "id": "ed0c6136",
   "metadata": {},
   "outputs": [
    {
     "data": {
      "text/plain": [
       "'Schritt 1\\nDie Daten aktuellen OSM-Daten werden heruntergeladen und in das richtige Dateiformat gebracht.\\n\\n\\nEs werden die Daten aus OSM (Download von https://download.geofabrik.de/europe/germany.html)\\nfür die weitere Analyse/Verwendung aufbereitet.\\nVorgehen wie hier: https://github.com/vizsim/osm_analyse_strassennamen\\nbzw. hier: https://journocode.com/de/tutorials/extracting-geodata-from-openstreetmap-with-osmfilter/\\nbeschrieben.\\nFür Linux: apt install osmctools\\nFür Windows: osmfilter und osmconvert runterladen\\naußerdem ogr2ogr besorgen.\\n@author: lukas\\n'"
      ]
     },
     "execution_count": 4,
     "metadata": {},
     "output_type": "execute_result"
    }
   ],
   "source": [
    "'''Schritt 1\n",
    "Die Daten aktuellen OSM-Daten werden heruntergeladen und in das richtige Dateiformat gebracht.\n",
    "\n",
    "\n",
    "Es werden die Daten aus OSM (Download von https://download.geofabrik.de/europe/germany.html)\n",
    "für die weitere Analyse/Verwendung aufbereitet.\n",
    "Vorgehen wie hier: https://github.com/vizsim/osm_analyse_strassennamen\n",
    "bzw. hier: https://journocode.com/de/tutorials/extracting-geodata-from-openstreetmap-with-osmfilter/\n",
    "beschrieben.\n",
    "Für Linux: apt install osmctools\n",
    "Für Windows: osmfilter und osmconvert runterladen\n",
    "außerdem ogr2ogr besorgen.\n",
    "@author: lukas\n",
    "'''"
   ]
  },
  {
   "cell_type": "code",
   "execution_count": 8,
   "id": "972c406a",
   "metadata": {},
   "outputs": [
    {
     "name": "stdout",
     "output_type": "stream",
     "text": [
      "used date: 231114\n",
      "import finished\n"
     ]
    }
   ],
   "source": [
    "import subprocess   #schnittstelle zum Betriebssystem, soll statt 'os' verwendet werden.\n",
    "import os           #schnittstelle zum Betriebssystem, osmfilter hat mit subprocess nicht funktioniert\n",
    "import geopandas\n",
    "import ogr2ogr\n",
    "import requests\n",
    "from datetime import date\n",
    "\n",
    "datum=date.today().strftime(\"%y%m%d\")\n",
    "datum = \"231114\"\n",
    "\n",
    "print('used date: ' + str(datum) + '\\nimport finished')"
   ]
  },
  {
   "cell_type": "code",
   "execution_count": 2,
   "id": "cbd98e1a",
   "metadata": {},
   "outputs": [],
   "source": [
    "#----------brandenburg mit Berlin--------\n",
    "\n",
    "#Herunterladen der aktuellen OSM-Daten. Angeblich bei großen Dateien besser, wenn gestückelt...\n",
    "\n",
    "url = 'https://download.geofabrik.de/europe/germany/brandenburg-latest.osm.pbf'\n",
    "r = requests.get(url, allow_redirects=True, stream = True)\n",
    "\n",
    "with open(\"../OSM-roh/brandenburg-latest_\"+datum+\".osm.pbf\",\"wb\") as f:\n",
    "    for chunk in r.iter_content(chunk_size=1024):\n",
    "  \n",
    "         if chunk:\n",
    "             f.write(chunk)"
   ]
  },
  {
   "cell_type": "code",
   "execution_count": null,
   "id": "2e216de1",
   "metadata": {},
   "outputs": [],
   "source": [
    "##-----------germany--------------------\n",
    "\n",
    "#Herunterladen der aktuellen OSM-Daten. Angeblich bei großen Dateien besser, wenn gestückelt...\n",
    "\n",
    "\n",
    "url = 'https://download.geofabrik.de/europe/germany-latest.osm.pbf'\n",
    "r = requests.get(url, allow_redirects=True, stream = True)\n",
    "\n",
    "with open(\"../OSM-roh/germany-latest_\"+datum+\".osm.pbf\",\"wb\") as f:\n",
    "    for chunk in r.iter_content(chunk_size=1024):\n",
    "  \n",
    "         if chunk:\n",
    "             f.write(chunk)"
   ]
  },
  {
   "cell_type": "code",
   "execution_count": 5,
   "id": "2863a97e",
   "metadata": {},
   "outputs": [
    {
     "data": {
      "text/plain": [
       "CompletedProcess(args=['osmconvert', '../OSM-roh/230315/brandenburg-latest_230315.osm.pbf', '-o=../OSM-roh/230315/brandenburg-latest_230315.osm.o5m'], returncode=0)"
      ]
     },
     "execution_count": 5,
     "metadata": {},
     "output_type": "execute_result"
    }
   ],
   "source": [
    "\"\"\"Nimmt die erste angegebene Datei und konvertiert sie. Output (-o=) ist die zweite angegebene Datei\n",
    "Berechnung mit Dateiformat 05m soll schneller sein.\"\"\"\n",
    "\n",
    "#Windows\n",
    "#subprocess.run(['osmconvert64', '../OSM-roh/brandenburg-latest_'+datum+'.osm.pbf', '-o=../OSM-roh/brandenburg-latest_'+datum+'.osm.o5m'])\n",
    "#Linux\n",
    "##----Brandenburg mit Berlin\n",
    "#subprocess.run(['osmconvert', '../OSM-roh/brandenburg-latest_'+datum+'.osm.pbf', '-o=../OSM-roh/brandenburg-latest_'+datum+'.osm.o5m'])  \n",
    "subprocess.run(['osmconvert', '../OSM-roh/230315/brandenburg-latest_230315.osm.pbf', '-o=../OSM-roh/230315/brandenburg-latest_230315.osm.o5m'])  \n",
    "\n",
    "##----germany\n",
    "#subprocess.run(['osmconvert', '../OSM-roh/germany-latest_'+datum+'.osm.pbf', '-o=../OSM-roh/germany-latest_'+datum+'.osm.o5m'])  "
   ]
  },
  {
   "cell_type": "code",
   "execution_count": 19,
   "id": "0722a1d7",
   "metadata": {},
   "outputs": [
    {
     "data": {
      "text/plain": [
       "2"
      ]
     },
     "execution_count": 19,
     "metadata": {},
     "output_type": "execute_result"
    }
   ],
   "source": [
    "\"\"\"aus gesamten OSM-Daten werden alle Straßen und Wege sefiltert und in neue DAtei geschrieben.\n",
    "Neue Datei im Format osm, damit im nächsten Schritt lesbar.\n",
    "Hinzugenommen zum zu_Nah-Prpojekt: =service =living_street =*_link =trunk\n",
    "Entfernt im Vergleich zum zu_Nah-Projekt: =cycleway =footway =pedestrian\n",
    "\"\"\"\n",
    "selection = \"highway=*ary* =unclassified =residential =road =track =path =service =living_street =trunk =trunk_link\"  # | bicycle=yes\"\n",
    "\n",
    "\n",
    "##----Brandenburg mit Berlin\n",
    "#os.system('osmfilter ../OSM-roh/brandenburg-latest_'+datum+'.osm.o5m --keep=\"'+selection+'\" -o=../OSM-roh/drivable_infra_Brandenburg_'+datum+'.osm')\n",
    "#os.system('osmfilter ../OSM-roh/230315/brandenburg-latest_230315.osm.o5m --keep=\"'+selection+'\" -o=../OSM-roh/230315/drivable_infra_Brandenburg_230315.osm')\n",
    "\n",
    "##----germany\n",
    "#os.system('osmfilter ../OSM-roh/231114de/germany-latest_'+datum+'.osm.o5m --keep='+selection+' -o=../OSM-roh/231114de/drivable_infra_Germany_'+datum+'.osm')\n",
    "os.system('osmfilter ../OSM-roh/231114de/germany-latest_'+datum+'.osm.o5m --keep=\"'+selection+'\" -o=../OSM-roh/231114de/drivable_infra_Germany_test'+datum+'.osm')\n"
   ]
  },
  {
   "cell_type": "code",
   "execution_count": 20,
   "id": "a7039412",
   "metadata": {},
   "outputs": [
    {
     "data": {
      "text/plain": [
       "True"
      ]
     },
     "execution_count": 20,
     "metadata": {},
     "output_type": "execute_result"
    }
   ],
   "source": [
    "\"\"\"Wandelt osm in gpkg um -> soll besser sein für Handhabung mit geopandas.\n",
    "Dabei werden die Attribute, die in der Ini-Datei stehen, als eigene Spalten angelegt.\n",
    "In .ini-Datei hinzugenommen zum zu_Nah-Prpojekt: \n",
    "cycleway:separation:left,cycleway:separation:right,\n",
    "separation:left,separation:left\n",
    "cycleway:bicycle,cycleway:both:bicycle,cycleway:right:bicycle,cycleway:left:bicycle,\n",
    "bicycle_road,\n",
    "oneway,\n",
    "cycleway:width,cycleway:both:width,cycleway:right:width,cycleway:left:width\n",
    "cycleway:right:marking:left, cycleway:right:marking:right, cycleway:left:marking:left, cycleway:left:marking:right, cycleway:right:marking:both,cycleway:left:marking:both,cycleway:both:marking:left,cycleway:both:marking:right,cycleway:both:marking:both,\n",
    "cycleway:right:traffic_sign, cycleway:left:traffic_sign, cycleway:both:traffic_sign,\n",
    "parking,parking:both,parking:left,parking:right,\n",
    "parking:both:orientation,parking:left:orientation,parking:right:orientation,\n",
    "cycleway:right:separation:right,cycleway:left:separation:right,cycleway:both:separation:right,cycleway:right:separation:left,cycleway:left:separation:left,cycleway:both:separation:left,cycleway:right:separation:both,cycleway:left:separation:both,cycleway:both:separation:both,\n",
    "cycleway:right:buffer:right,cycleway:left:buffer:right,cycleway:both:buffer:right,cycleway:right:buffer:left,cycleway:left:buffer:left,cycleway:both:buffer:left,cycleway:right:buffer:both,cycleway:left:buffer:both,cycleway:both:buffer:both\n",
    "\n",
    "\"\"\"\n",
    "##----Brandenburg mit Berlin\n",
    "#ogr2ogr.main([\"-overwrite\",\"--config\", \"OSM_CONFIG_FILE\",\"osmconf_drivable.ini\",\"-skipfailures\",\"-f\", \"GPKG\", '../OSM-roh/drivable_infra_Brandenburg_'+datum+'.gpkg','../OSM-roh/drivable_infra_Brandenburg_'+datum+'.osm'])\n",
    "\n",
    "#ogr2ogr.main([\"-overwrite\",\"--config\", \"OSM_CONFIG_FILE\",\"osmconf_drivable.ini\",\"-skipfailures\",\"-f\", \"GPKG\", '../OSM-roh/230315/drivable_infra_Brandenburg_230315.gpkg','../OSM-roh/230315/drivable_infra_Brandenburg_230315.osm'])\n",
    "\n",
    "\n",
    "##----germany\n",
    "ogr2ogr.main([\"-overwrite\",\"--config\", \"OSM_CONFIG_FILE\",\"osmconf_drivable.ini\",\"-skipfailures\",\"-f\", \"GPKG\", '../OSM-roh/231114de/drivable_infra_Germany_'+datum+'.gpkg','../OSM-roh/231114de/drivable_infra_Germany_'+datum+'.osm'])\n",
    "\n"
   ]
  },
  {
   "cell_type": "code",
   "execution_count": null,
   "id": "a5e89bba",
   "metadata": {},
   "outputs": [],
   "source": []
  }
 ],
 "metadata": {
  "kernelspec": {
   "display_name": "Python 3 (Spyder)",
   "language": "python3",
   "name": "python3"
  },
  "language_info": {
   "codemirror_mode": {
    "name": "ipython",
    "version": 3
   },
   "file_extension": ".py",
   "mimetype": "text/x-python",
   "name": "python",
   "nbconvert_exporter": "python",
   "pygments_lexer": "ipython3",
   "version": "3.9.18"
  }
 },
 "nbformat": 4,
 "nbformat_minor": 5
}
